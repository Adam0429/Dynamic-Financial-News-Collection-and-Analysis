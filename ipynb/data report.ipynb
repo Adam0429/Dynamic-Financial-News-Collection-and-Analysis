{
 "cells": [
  {
   "cell_type": "code",
   "execution_count": 24,
   "metadata": {},
   "outputs": [],
   "source": [
    "import xlrd,xlwt\n",
    "import datetime\n",
    "import pandas as pd\n",
    "import pandas_datareader.data as web\n",
    "from tqdm import tqdm\n",
    "import IPython\n",
    "import glob"
   ]
  },
  {
   "cell_type": "code",
   "execution_count": 25,
   "metadata": {},
   "outputs": [],
   "source": [
    "def recent_price(stockname,start_time):\n",
    "\t# today = datetime.date.today()\n",
    "\tdate = start_time.split('-')\n",
    "\tt1 = pd.Timestamp(datetime.datetime(int(date[0]),int(date[1]),int(date[2]),0,0,0))  # 创建一个datetime.datetime\n",
    "\t# High            155.789993\n",
    "\t# Low             154.600006\n",
    "\t# Open            155.570007\n",
    "\t# Close           155.720001\n",
    "\t# Volume       521800.000000\n",
    "\t# Adj Close       153.603760\n",
    "\ttry:\n",
    "\t\tprices = web.DataReader(stockname, 'yahoo')\n",
    "\t\ttoday_index = list(prices.index).index(t1)\n",
    "\t\ttomorrow_index = prices.index[today_index+1]\n",
    "\t\trecent_indexs = [prices.index[today_index+i] for i in range(-1,6)]\n",
    "\t\t# 前一天 当天 和 后五天的 \n",
    "\t\tdata = []\n",
    "\t\tfor index in recent_indexs:\n",
    "\t\t\tdata.append(prices.loc[index]['Close'])\n",
    "\texcept KeyboardInterrupt:\n",
    "\t\texit()\n",
    "\texcept:\n",
    "\t\treturn\n",
    "\treturn data"
   ]
  },
  {
   "cell_type": "code",
   "execution_count": 26,
   "metadata": {},
   "outputs": [
    {
     "name": "stdout",
     "output_type": "stream",
     "text": [
      "<class 'pandas.core.frame.DataFrame'>\n",
      "RangeIndex: 1020077 entries, 0 to 1020076\n",
      "Data columns (total 5 columns):\n",
      "date       1020077 non-null object\n",
      "_id        1020077 non-null object\n",
      "content    1017616 non-null object\n",
      "date.1     1020077 non-null object\n",
      "title      1020076 non-null object\n",
      "dtypes: object(5)\n",
      "memory usage: 38.9+ MB\n"
     ]
    }
   ],
   "source": [
    "df = pd.read_csv(r'/Users/wangfeihong/Desktop/Dynamic-Financial-News-Collection-and-Analysis/news.csv',encoding='ISO-8859-1') \n",
    "df.info()\n",
    "# df.head(1)\n"
   ]
  },
  {
   "cell_type": "code",
   "execution_count": 27,
   "metadata": {},
   "outputs": [],
   "source": [
    "# Index(['date', '_id', 'content', 'date.1\t', 'title'], dtype='object')\n"
   ]
  },
  {
   "cell_type": "code",
   "execution_count": 28,
   "metadata": {},
   "outputs": [
    {
     "data": {
      "text/plain": [
       "2462"
      ]
     },
     "execution_count": 28,
     "metadata": {},
     "output_type": "execute_result"
    }
   ],
   "source": [
    "# 空缺值长度\n",
    "len(df[df.isnull().values==True].drop_duplicates())"
   ]
  },
  {
   "cell_type": "code",
   "execution_count": 29,
   "metadata": {},
   "outputs": [
    {
     "data": {
      "text/plain": [
       "2461"
      ]
     },
     "execution_count": 29,
     "metadata": {},
     "output_type": "execute_result"
    }
   ],
   "source": [
    "# 空缺值中属于content空缺的\n",
    "len(df[df['content'].isnull().values==True].drop_duplicates())"
   ]
  },
  {
   "cell_type": "code",
   "execution_count": 30,
   "metadata": {},
   "outputs": [
    {
     "data": {
      "text/plain": [
       "1"
      ]
     },
     "execution_count": 30,
     "metadata": {},
     "output_type": "execute_result"
    }
   ],
   "source": [
    "# 空缺值中属于title空缺的\n",
    "len(df[df['title'].isnull().values==True].drop_duplicates())"
   ]
  },
  {
   "cell_type": "code",
   "execution_count": 31,
   "metadata": {},
   "outputs": [
    {
     "data": {
      "text/plain": [
       "0"
      ]
     },
     "execution_count": 31,
     "metadata": {},
     "output_type": "execute_result"
    }
   ],
   "source": [
    "len(df[df['date'].isnull().values==True].drop_duplicates())"
   ]
  },
  {
   "cell_type": "code",
   "execution_count": 32,
   "metadata": {},
   "outputs": [
    {
     "data": {
      "text/plain": [
       "count        1020077\n",
       "unique          4188\n",
       "top       2012-06-08\n",
       "freq            1572\n",
       "Name: date, dtype: object"
      ]
     },
     "execution_count": 32,
     "metadata": {},
     "output_type": "execute_result"
    }
   ],
   "source": [
    "df['date'].describe()"
   ]
  },
  {
   "cell_type": "code",
   "execution_count": 33,
   "metadata": {},
   "outputs": [
    {
     "data": {
      "text/plain": [
       "'2018-04-07'"
      ]
     },
     "execution_count": 33,
     "metadata": {},
     "output_type": "execute_result"
    }
   ],
   "source": [
    "max(df['date'])"
   ]
  },
  {
   "cell_type": "code",
   "execution_count": 34,
   "metadata": {},
   "outputs": [
    {
     "data": {
      "text/plain": [
       "'2006-10-20'"
      ]
     },
     "execution_count": 34,
     "metadata": {},
     "output_type": "execute_result"
    }
   ],
   "source": [
    "min(df['date'])"
   ]
  },
  {
   "cell_type": "code",
   "execution_count": 35,
   "metadata": {},
   "outputs": [
    {
     "data": {
      "text/plain": [
       "count         1020077\n",
       "unique        1020077\n",
       "top       USL1N1J90YI\n",
       "freq                1\n",
       "Name: _id, dtype: object"
      ]
     },
     "execution_count": 35,
     "metadata": {},
     "output_type": "execute_result"
    }
   ],
   "source": [
    "df['_id'].describe()"
   ]
  },
  {
   "cell_type": "code",
   "execution_count": 36,
   "metadata": {},
   "outputs": [
    {
     "data": {
      "text/plain": [
       "count     1017616\n",
       "unique    1005730\n",
       "top              \n",
       "freq          990\n",
       "Name: content, dtype: object"
      ]
     },
     "execution_count": 36,
     "metadata": {},
     "output_type": "execute_result"
    }
   ],
   "source": [
    "df['content'].describe()"
   ]
  },
  {
   "cell_type": "code",
   "execution_count": 37,
   "metadata": {},
   "outputs": [
    {
     "data": {
      "text/plain": [
       "count                                               1020076\n",
       "unique                                               979927\n",
       "top       Certificate of Deposits Reported: India Money ...\n",
       "freq                                                    587\n",
       "Name: title, dtype: object"
      ]
     },
     "execution_count": 37,
     "metadata": {},
     "output_type": "execute_result"
    }
   ],
   "source": [
    "df['title'].describe()"
   ]
  },
  {
   "cell_type": "code",
   "execution_count": null,
   "metadata": {},
   "outputs": [],
   "source": [
    "for i in range(0,len(df['date'])):\n",
    "    print(i)"
   ]
  },
  {
   "cell_type": "code",
   "execution_count": 38,
   "metadata": {},
   "outputs": [
    {
     "data": {
      "text/plain": [
       "1020077"
      ]
     },
     "execution_count": 38,
     "metadata": {},
     "output_type": "execute_result"
    }
   ],
   "source": [
    "len(df['date'])"
   ]
  },
  {
   "cell_type": "code",
   "execution_count": null,
   "metadata": {},
   "outputs": [],
   "source": []
  }
 ],
 "metadata": {
  "kernelspec": {
   "display_name": "Python 3",
   "language": "python",
   "name": "python3"
  },
  "language_info": {
   "codemirror_mode": {
    "name": "ipython",
    "version": 3
   },
   "file_extension": ".py",
   "mimetype": "text/x-python",
   "name": "python",
   "nbconvert_exporter": "python",
   "pygments_lexer": "ipython3",
   "version": "3.6.3"
  }
 },
 "nbformat": 4,
 "nbformat_minor": 2
}
